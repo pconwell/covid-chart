{
 "cells": [
  {
   "cell_type": "code",
   "execution_count": null,
   "metadata": {},
   "outputs": [],
   "source": [
    "# libraries\n",
    "import matplotlib.pyplot as plt\n",
    "import numpy as np\n",
    "import pandas as pd"
   ]
  },
  {
   "cell_type": "markdown",
   "metadata": {},
   "source": [
    "## Calculate some stuff"
   ]
  },
  {
   "cell_type": "code",
   "execution_count": null,
   "metadata": {},
   "outputs": [],
   "source": [
    "# get nytimes covid data\n",
    "url = 'https://raw.githubusercontent.com/nytimes/covid-19-data/master/us-states.csv'\n",
    "df = pd.read_csv(url, error_bad_lines=False)\n",
    "\n",
    "# pivot data from long to wide\n",
    "df = df.pivot(index='date', columns='state', values='cases')\n",
    "\n",
    "# clean up the data so blanks are zeros and numbers are integers\n",
    "df = df.fillna(0)\n",
    "df = df.astype(int)\n",
    "\n",
    "# reset index (to make graph work)\n",
    "df = df.reset_index()\n",
    "\n",
    "# Make dataframe for DIFFERENCE between two days\n",
    "df_delta = df.copy()\n",
    "df_delta.drop(['date'], axis=1, inplace=True)\n",
    "df_delta = df_delta.diff()\n",
    "df_delta['date'] = df['date']\n",
    "df_delta = df_delta[ ['date'] + [ col for col in df_delta.columns if col != 'date' ] ]"
   ]
  },
  {
   "cell_type": "markdown",
   "metadata": {},
   "source": [
    "# Total Cases"
   ]
  },
  {
   "cell_type": "code",
   "execution_count": null,
   "metadata": {},
   "outputs": [],
   "source": [
    "# Note: `df.index[-1]` == length of the dataframe. ie if there are 74 days of data, df.index[-1] == 74\n",
    "\n",
    "state = \"Tennessee\"\n",
    "\n",
    "#plt.style.use('fivethirtyeight')\n",
    "plt.style.use('seaborn-darkgrid')\n",
    "my_dpi=96\n",
    "plt.figure(figsize=(1080/my_dpi, 480/my_dpi), dpi=my_dpi)\n",
    "plt.xticks(rotation=90)\n",
    "# plt.yscale(\"log\")\n",
    " \n",
    "# lines for each state\n",
    "for column in df.drop('date', axis=1):\n",
    "    plt.plot(df['date'], df[column], marker='', color='grey', linewidth=1, alpha=0.9, label=column)\n",
    "\n",
    "# redo the line for Tennessee\n",
    "plt.plot(df['date'], df[state], marker='', color='orange', linewidth=4, alpha=0.7)\n",
    "\n",
    "# Change xlim (last two weeks: [-14] = start 14 days ago, [-1] start today)\n",
    "plt.xlim(df.index[-30],df.index[-1])\n",
    " \n",
    "# annotate the lines\n",
    "num=0\n",
    "for i in df.values[df.index[-1]][1:]:\n",
    "   num+=1\n",
    "   name=list(df)[num]\n",
    "   if name != state:\n",
    "      plt.text(df.index[-1], i, name, horizontalalignment='left', size='small', color='grey')\n",
    " \n",
    "# And add a special annotation for the group we are interested in\n",
    "plt.text(df.index[-1], df[state].tail(1), state, horizontalalignment='left', size='small', color='orange')\n",
    " \n",
    "# Add titles\n",
    "plt.title(\"SARS-CoV-2 Total Cases by Date\", loc='left', fontsize=12, fontweight=0, color='orange')\n",
    "plt.xlabel(\"Time\")\n",
    "plt.ylabel(\"Cases\")"
   ]
  },
  {
   "cell_type": "markdown",
   "metadata": {},
   "source": [
    "## New Cases"
   ]
  },
  {
   "cell_type": "code",
   "execution_count": null,
   "metadata": {},
   "outputs": [],
   "source": [
    "# Note: `df.index[-1]` == length of the dataframe. ie if there are 74 days of data, df.index[-1] == 74\n",
    "\n",
    "state = \"Tennessee\"\n",
    "\n",
    "#plt.style.use('fivethirtyeight')\n",
    "plt.style.use('seaborn-darkgrid')\n",
    "my_dpi=96\n",
    "plt.figure(figsize=(1080/my_dpi, 620/my_dpi), dpi=my_dpi)\n",
    "plt.xticks(rotation=90)\n",
    "# plt.yscale(\"log\")\n",
    " \n",
    "# lines for each state\n",
    "for column in df_delta.drop('date', axis=1):\n",
    "    plt.plot(df_delta['date'], df_delta[column], marker='', color='grey', linewidth=1, alpha=0.9, label=column)\n",
    "\n",
    "# redo the line for Tennessee\n",
    "plt.plot(df_delta['date'], df_delta[state], marker='', color='orange', linewidth=4, alpha=0.7)\n",
    "\n",
    "# Change xlim (last two weeks: [-14] = start 14 days ago, [-1] start today)\n",
    "plt.xlim(df_delta.index[-30],df_delta.index[-1])\n",
    " \n",
    "# annotate the lines\n",
    "num=0\n",
    "for i in df_delta.values[df_delta.index[-1]][1:]:\n",
    "   num+=1\n",
    "   name=list(df_delta)[num]\n",
    "   if name != state:\n",
    "      plt.text(df_delta.index[-1], i, name, horizontalalignment='left', size='small', color='grey')\n",
    " \n",
    "# And add a special annotation for the group we are interested in\n",
    "plt.text(df_delta.index[-1], df_delta[state].tail(1), state, horizontalalignment='left', size='small', color='orange')\n",
    " \n",
    "# Add titles\n",
    "plt.title(\"SARS-CoV-2 New Cases by Date\", loc='left', fontsize=12, fontweight=0, color='orange')\n",
    "plt.xlabel(\"Time\")\n",
    "plt.ylabel(\"Cases\")"
   ]
  },
  {
   "cell_type": "markdown",
   "metadata": {},
   "source": [
    "## Tennessee Data past 10 days"
   ]
  },
  {
   "cell_type": "code",
   "execution_count": null,
   "metadata": {},
   "outputs": [],
   "source": [
    "df[state].tail(10)"
   ]
  },
  {
   "cell_type": "code",
   "execution_count": null,
   "metadata": {},
   "outputs": [],
   "source": [
    "df_delta[state].tail(10)"
   ]
  },
  {
   "cell_type": "markdown",
   "metadata": {},
   "source": [
    "## Population Data"
   ]
  },
  {
   "cell_type": "code",
   "execution_count": null,
   "metadata": {},
   "outputs": [],
   "source": [
    "# get data from wikipedia\n",
    "WIKI_URL = \"https://simple.wikipedia.org/wiki/List_of_U.S._states_by_population\"\n",
    "df_pop = pd.read_html(WIKI_URL, header=0)\n",
    "\n",
    "# fix the dataframe, it ends up inside a list for some reason\n",
    "df_pop = df_pop[0]\n",
    "\n",
    "# delete all the columns execpt for \"Population estimate, July 1, 2019[2]\" and \"State\"\n",
    "for columns in df_pop.columns:\n",
    "   if columns not in [\"Population estimate, July 1, 2019[2]\", \"State\"]:\n",
    "      df_pop.drop([columns], axis=1, inplace=True)\n",
    "\n",
    "# Rename \"Population estimate, July 1, 2019[2]\" to \"Population\"\n",
    "df_pop.rename(columns={\"Population estimate, July 1, 2019[2]\": \"Population\"}, inplace=True)\n",
    "\n",
    "# Drop the terretories and totals, etc\n",
    "df_pop.drop([31, 52, 53, 54, 55, 56, 57, 58, 59], inplace=True)\n",
    "\n",
    "# sort list alphabetically by state name\n",
    "df_pop = df_pop.sort_values(\"State\")\n",
    "df_pop = df_pop.reset_index()\n",
    "df_pop.drop([\"index\"], axis=1, inplace=True)\n",
    "df_pop.set_index(\"State\", inplace=True)\n",
    "\n",
    "print(df_pop)"
   ]
  },
  {
   "cell_type": "code",
   "execution_count": null,
   "metadata": {},
   "outputs": [],
   "source": [
    "# df_test = df_delta.copy()\n",
    "# df_test.drop([\"New York\", \"New Jersey\"], axis=1, inplace=True)"
   ]
  }
 ],
 "metadata": {
  "kernelspec": {
   "display_name": "Python 3",
   "language": "python",
   "name": "python3"
  },
  "language_info": {
   "codemirror_mode": {
    "name": "ipython",
    "version": 3
   },
   "file_extension": ".py",
   "mimetype": "text/x-python",
   "name": "python",
   "nbconvert_exporter": "python",
   "pygments_lexer": "ipython3",
   "version": "3.7.6"
  }
 },
 "nbformat": 4,
 "nbformat_minor": 4
}